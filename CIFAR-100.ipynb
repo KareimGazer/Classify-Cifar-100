{
  "cells": [
    {
      "cell_type": "markdown",
      "metadata": {
        "id": "zAJLs3r8ItkG",
        "tags": []
      },
      "source": [
        "# Classifying Images of the CIFAR-100 Dataset\n",
        "\n",
        "<br />\n",
        "<br />\n",
        "<br />\n",
        "\n",
        "![logo](https://eng.asu.edu.eg/archive/download/68238)\n",
        "\n",
        "<br />\n",
        "<br />\n",
        "<br />\n",
        "<br />\n",
        "<br />\n",
        "<br />\n",
        "<br />\n",
        "\n",
        "<center>\n",
        "    <h3>\n",
        " Kareim Tarek Abdel-Azeem Amin        <strong> 1701002 </strong>\n",
        "        </h3>\n",
        "    <br />\n",
        "    <h3>\n",
        " Isalm Mohammed Abdel-Aziz       <strong> 1700253 </strong>\n",
        "        </h3>\n",
        "</center>\n",
        "<br /><br /><br /><br /><br /><br /><br /><br /><br /><br /><br /><br /><br />\n",
        "<br /><br /><br /><br /><br /><br /><br /><br /><br /><br /><br /><br /><br />\n",
        "<br /><br /><br /><br /><br /><br /><br /> <br />"
      ]
    },
    {
      "cell_type": "markdown",
      "metadata": {
        "id": "FBXMqSj5e1dY"
      },
      "source": [
        "## Index\n",
        "- [Abstract](##Abstract)\n",
        "- [Methods and Algorithms](##Methods-and-Algorithms)\n",
        "- [Expiremental Results](##Expiremental-Results)\n",
        "- [Discussion](##Discussion)\n",
        "- [Appendix (codes)](##Appendix-(Codes))"
      ]
    },
    {
      "cell_type": "markdown",
      "metadata": {
        "id": "XtA-A993JKSm"
      },
      "source": [
        "## Abstract\n",
        "Image classification is the objective of identifying whether the image belongs to a particular predefined class or not. It's of vital importance in this era. latest advances in that field enabled self driving cars to be a reality, doctors to detect deseases, and people with disabilities to have a better life. Image classification can be extended to Image detection - detect whether something exists in an image - , and image recognition - which is the ability of software to identify objects, places, people, writing and actions in images. In this paper we try to tackle the challange by providing two solutions to classify 100 classes in a large data set. we explain our methods, show the results, and discuss how we acheived them.."
      ]
    },
    {
      "cell_type": "markdown",
      "metadata": {
        "id": "7tfLp2eBJPQ1"
      },
      "source": [
        "## Problem Definition\n",
        "It's required to classify 100 classes of objects found in images of the CIFAR-100 dataset, which contains 50000 training example and 10000 test samples. Images are of size 32x32x3 RGB colored 3-channels images. "
      ]
    },
    {
      "cell_type": "markdown",
      "metadata": {
        "id": "vBAm28pVQ5NY"
      },
      "source": [
        "## Solution\n",
        "In this paper we propose to solutions to the classification problem:\n",
        "- Multi-Class SVM: in the form of a shallow neural network with the number of hidden units (in the hidden layer) equal to the number of classes and using the *catagorical_hinge_loss* as the loss function of the model. The model acheives relatively poor performance which we try to enhance in the next proposed model.\n",
        "- Deep Neurak Network: we introduce a deep neural network withseveral convoluntional layers  to extract and capture the many features of the images, which resulted in a better performance.\n"
      ]
    },
    {
      "cell_type": "markdown",
      "metadata": {
        "id": "9QNh-SlsKLTl"
      },
      "source": [
        "## Methods and Algorithms"
      ]
    },
    {
      "cell_type": "markdown",
      "metadata": {
        "id": "0JH-P4oLL5Xg"
      },
      "source": [
        "### Programming Tools and APIs\n",
        "\n",
        "\n",
        "- This Notebook is developed totally in **Python**, we used keras API of the **tensorflow 2.0** framework for building deeplearning models.\n",
        "- we used the **Eager mode of tensorflow** via its sequential API for its simpilicity.\n",
        "- **Numpy** for calculations\n",
        "- **Pandas** for data preprocessing\n",
        "- **matplotlib** for plotting figures\n",
        "- **scikit-learn** for feature extraction\n",
        "\n"
      ]
    },
    {
      "cell_type": "code",
      "execution_count": null,
      "metadata": {
        "id": "1ybEHxbUNs4G"
      },
      "outputs": [],
      "source": [
        "!pip install -q numpy\n",
        "!pip install -q pandas\n",
        "!pip install -q tensorflow\n",
        "!pip install -q matplotlib\n",
        "!pip install -q scikit-learn"
      ]
    },
    {
      "cell_type": "code",
      "execution_count": null,
      "metadata": {
        "id": "Q2iYRRbj9Ul2"
      },
      "outputs": [],
      "source": [
        "import numpy as np\n",
        "import pandas as pd\n",
        "import matplotlib.pyplot as plt\n",
        "import tensorflow as tf\n",
        "from tensorflow.keras.models import Sequential\n",
        "from tensorflow.keras.layers import Dense, Flatten, Conv2D, MaxPooling2D, Dropout, Softmax\n",
        "from tensorflow.keras.losses import sparse_categorical_crossentropy\n",
        "from tensorflow.keras.optimizers import Adam\n",
        "import matplotlib.pyplot as plt\n",
        "from tensorflow.keras import regularizers\n",
        "from tensorflow.keras.utils import to_categorical\n",
        "from sklearn.decomposition import PCA\n",
        "from sklearn import preprocessing\n",
        "from keras.utils import np_utils"
      ]
    },
    {
      "cell_type": "markdown",
      "metadata": {
        "id": "kdcMtsCYLBX-"
      },
      "source": [
        "### Getting the data\n",
        "The Cifar-100 dataset was loaded from the datasets found in the keras API in tensorflow."
      ]
    },
    {
      "cell_type": "code",
      "execution_count": null,
      "metadata": {
        "id": "9oVdQ8XJB_uX"
      },
      "outputs": [],
      "source": [
        "images_data = tf.keras.datasets.cifar100"
      ]
    },
    {
      "cell_type": "code",
      "execution_count": null,
      "metadata": {
        "id": "XhtwWRs2N6v2"
      },
      "outputs": [],
      "source": [
        "(train_images, train_labels), (test_images, test_labels) = images_data.load_data()"
      ]
    },
    {
      "cell_type": "markdown",
      "metadata": {
        "id": "5ash4yj7OxwH"
      },
      "source": [
        "As we can see, the training data is consists of 50000 samples and 10000 for the test data, also the labels are in sparse representation as apposed to one hot encoding."
      ]
    },
    {
      "cell_type": "code",
      "execution_count": null,
      "metadata": {
        "colab": {
          "base_uri": "https://localhost:8080/"
        },
        "id": "c8PtBh47OzRG",
        "outputId": "6cb4a2f0-723f-4608-e860-d8fbd8c876ae"
      },
      "outputs": [
        {
          "name": "stdout",
          "output_type": "stream",
          "text": [
            "training data dimensions:  (50000, 32, 32, 3)\n",
            "training labels dimensions (sparse):  (50000, 1)\n",
            "test data dimensions:  (10000, 32, 32, 3)\n",
            "test labels dimensions (sparse):  (10000, 1)\n"
          ]
        }
      ],
      "source": [
        "print( \"training data dimensions: \", train_images.shape)\n",
        "print( \"training labels dimensions (sparse): \", train_labels.shape)\n",
        "print( \"test data dimensions: \", test_images.shape)\n",
        "print( \"test labels dimensions (sparse): \", test_labels.shape)"
      ]
    },
    {
      "cell_type": "markdown",
      "metadata": {
        "id": "GM8Iaw5-PTR3"
      },
      "source": [
        "Here, we see a random image of the data of size 32x32x3"
      ]
    },
    {
      "cell_type": "code",
      "execution_count": null,
      "metadata": {
        "colab": {
          "base_uri": "https://localhost:8080/",
          "height": 283
        },
        "id": "ZnBFY9k5PYAN",
        "outputId": "c9f8da1a-aef9-4932-d9c9-88f288553b74"
      },
      "outputs": [
        {
          "data": {
            "image/png": "[encoded data removed]",
            "text/plain": [
              "<Figure size 432x288 with 1 Axes>"
            ]
          },
          "metadata": {},
          "output_type": "display_data"
        },
        {
          "name": "stdout",
          "output_type": "stream",
          "text": [
            "Image Label: [30]\n"
          ]
        }
      ],
      "source": [
        "sample_img_idx = np.random.choice(train_images.shape[0])\n",
        "img = train_images[sample_img_idx,:,:]\n",
        "plt.imshow(img)\n",
        "plt.show()\n",
        "print(f\"Image Label: {train_labels[sample_img_idx]}\")"
      ]
    },
    {
      "cell_type": "markdown",
      "metadata": {
        "id": "XS5C38A4QlYv"
      },
      "source": [
        "### Multi-Class Support Vector Machine (MCSVM)"
      ]
    },
    {
      "cell_type": "markdown",
      "metadata": {
        "id": "ZzWtpXwcSdr_"
      },
      "source": [
        "#### Data preprocessing"
      ]
    },
    {
      "cell_type": "markdown",
      "metadata": {
        "id": "wbbFb7WE8Dx1"
      },
      "source": [
        "##### Data Normalization: \n",
        "First, we normalize both the training and test data."
      ]
    },
    {
      "cell_type": "code",
      "execution_count": null,
      "metadata": {
        "colab": {
          "base_uri": "https://localhost:8080/"
        },
        "id": "bQjImYDn8DDn",
        "outputId": "aaa0a1b8-4885-44be-eade-8c7b6a8038eb"
      },
      "outputs": [
        {
          "data": {
            "text/plain": [
              "(50000, 3072)"
            ]
          },
          "execution_count": 5,
          "metadata": {},
          "output_type": "execute_result"
        }
      ],
      "source": [
        "train_images = train_images/255.0\n",
        "train_images_flat = train_images.reshape(train_images.shape[0],-1)\n",
        "train_images_flat.shape"
      ]
    },
    {
      "cell_type": "code",
      "execution_count": null,
      "metadata": {
        "colab": {
          "base_uri": "https://localhost:8080/"
        },
        "id": "kvP7wa6X8DO1",
        "outputId": "ef3f8363-1e01-4c68-8b2f-26e19b88d2ba"
      },
      "outputs": [
        {
          "data": {
            "text/plain": [
              "(10000, 3072)"
            ]
          },
          "execution_count": 6,
          "metadata": {},
          "output_type": "execute_result"
        }
      ],
      "source": [
        "test_images = test_images/255.0\n",
        "test_images_flat = test_images.reshape(test_images.shape[0],-1)\n",
        "test_images_flat.shape"
      ]
    },
    {
      "cell_type": "markdown",
      "metadata": {
        "id": "8ip1UC5U92N2"
      },
      "source": [
        "##### One Hot Endcoding: \n",
        "The catagorical_hinge loss function - provided by tensorflow - needs the labels to be one hot encoded, so we do the transformation."
      ]
    },
    {
      "cell_type": "code",
      "execution_count": null,
      "metadata": {
        "id": "hLPTM0bZ-NyF"
      },
      "outputs": [],
      "source": [
        "# Transform lables to one-hot encoding\n",
        "transformed_train = np_utils.to_categorical(train_labels, 100)\n",
        "transformed_test = np_utils.to_categorical(test_labels, 100)"
      ]
    },
    {
      "cell_type": "markdown",
      "metadata": {
        "id": "QRXN1PlH-un9"
      },
      "source": [
        "Here, we show the difference."
      ]
    },
    {
      "cell_type": "code",
      "execution_count": null,
      "metadata": {
        "colab": {
          "base_uri": "https://localhost:8080/"
        },
        "id": "2vK19W5a-JZv",
        "outputId": "cef02814-1446-44d5-fc94-8b1d933a91f0"
      },
      "outputs": [
        {
          "name": "stdout",
          "output_type": "stream",
          "text": [
            "Value without encoding: [92]\n",
            "Value with encoding: [0. 0. 0. 0. 0. 0. 0. 0. 0. 0. 0. 0. 0. 0. 0. 0. 0. 0. 0. 0. 0. 0. 0. 0.\n",
            " 0. 0. 0. 0. 0. 0. 0. 0. 0. 0. 0. 0. 0. 0. 0. 0. 0. 0. 0. 0. 0. 0. 0. 0.\n",
            " 0. 0. 0. 0. 0. 0. 0. 0. 0. 0. 0. 0. 0. 0. 0. 0. 0. 0. 0. 0. 0. 0. 0. 0.\n",
            " 0. 0. 0. 0. 0. 0. 0. 0. 0. 0. 0. 0. 0. 0. 0. 0. 0. 0. 0. 0. 1. 0. 0. 0.\n",
            " 0. 0. 0. 0.]\n"
          ]
        }
      ],
      "source": [
        "# Print results\n",
        "print(f'Value without encoding: {test_labels[123]}')\n",
        "print(f'Value with encoding: {transformed_test[123]}')"
      ]
    },
    {
      "cell_type": "markdown",
      "metadata": {
        "id": "BjWCY1c4-zKF"
      },
      "source": [
        "The new shape of the test, and train labels"
      ]
    },
    {
      "cell_type": "code",
      "execution_count": null,
      "metadata": {
        "colab": {
          "base_uri": "https://localhost:8080/"
        },
        "id": "TWFJg5bS-Eq8",
        "outputId": "a35edff2-1ee8-46be-99c2-c764eed4b50f"
      },
      "outputs": [
        {
          "name": "stdout",
          "output_type": "stream",
          "text": [
            "training labels dimensions (OHE):  (50000, 100)\n",
            "test labels dimensions (OHE):  (10000, 100)\n"
          ]
        }
      ],
      "source": [
        "print( \"training labels dimensions (OHE): \", transformed_train.shape)\n",
        "print( \"test labels dimensions (OHE): \", transformed_test.shape)"
      ]
    },
    {
      "cell_type": "markdown",
      "metadata": {
        "id": "G1zjUFOB_Qov"
      },
      "source": [
        "##### Feature Extraction:\n",
        "Due to the high dimensional image data, we use PCA to capture 0.96 of the variance in the data."
      ]
    },
    {
      "cell_type": "code",
      "execution_count": null,
      "metadata": {
        "id": "HdP6PKJSAVBe"
      },
      "outputs": [],
      "source": [
        "pca_cifar = PCA(0.96)"
      ]
    },
    {
      "cell_type": "markdown",
      "metadata": {
        "id": "8kvxNk-1Aeis"
      },
      "source": [
        "Here, we do the transformation using PCA in sklean library"
      ]
    },
    {
      "cell_type": "code",
      "execution_count": null,
      "metadata": {
        "colab": {
          "background_save": true
        },
        "id": "f3kxu0PVAeqn"
      },
      "outputs": [],
      "source": [
        "feat_cols = ['pixel'+str(i) for i in range(train_images_flat.shape[1])]\n",
        "df_cifar = pd.DataFrame(train_images_flat,columns=feat_cols)\n",
        "df_cifar['label'] = train_labels\n",
        "principalComponents_cifar = pca_cifar.fit_transform(df_cifar.iloc[:,:-1])"
      ]
    },
    {
      "cell_type": "markdown",
      "metadata": {
        "id": "iqlhAQwrAWa-"
      },
      "source": [
        "This results in 251 components (features.)"
      ]
    },
    {
      "cell_type": "code",
      "execution_count": null,
      "metadata": {
        "colab": {
          "base_uri": "https://localhost:8080/"
        },
        "id": "uZy8o0cmAVvF",
        "outputId": "c6b2041e-bbba-4b70-f790-356b8db9f6d2"
      },
      "outputs": [
        {
          "data": {
            "text/plain": [
              "251"
            ]
          },
          "execution_count": 16,
          "metadata": {},
          "output_type": "execute_result"
        }
      ],
      "source": [
        "pca_cifar.n_components_"
      ]
    },
    {
      "cell_type": "markdown",
      "metadata": {
        "id": "bwh8s0wS_cpv"
      },
      "source": [
        "Here, we flatten the input features"
      ]
    },
    {
      "cell_type": "code",
      "execution_count": null,
      "metadata": {
        "colab": {
          "base_uri": "https://localhost:8080/"
        },
        "id": "pnYi8F7DEHei",
        "outputId": "693a3107-7a2a-4735-de6e-86f35864086f"
      },
      "outputs": [
        {
          "data": {
            "text/plain": [
              "(50000, 3072)"
            ]
          },
          "execution_count": 17,
          "metadata": {},
          "output_type": "execute_result"
        }
      ],
      "source": [
        "dd = df_cifar.iloc[:,:-1]\n",
        "dd.shape"
      ]
    },
    {
      "cell_type": "markdown",
      "metadata": {
        "id": "5eQ4icY8CdhG"
      },
      "source": [
        "Now, we do the transformation on the images"
      ]
    },
    {
      "cell_type": "code",
      "execution_count": null,
      "metadata": {
        "id": "P1b3s4BQCduy"
      },
      "outputs": [],
      "source": [
        "%%capture\n",
        "train_img_pca = pca_cifar.transform(train_images_flat)\n",
        "test_img_pca = pca_cifar.transform(test_images_flat)"
      ]
    },
    {
      "cell_type": "markdown",
      "metadata": {
        "id": "CVQHYTKGCeYl"
      },
      "source": [
        "Here is the train and test data shape after PCA transformation"
      ]
    },
    {
      "cell_type": "code",
      "execution_count": null,
      "metadata": {
        "colab": {
          "base_uri": "https://localhost:8080/"
        },
        "id": "WlTj-E2DCegt",
        "outputId": "1106b077-3010-44f8-d946-002f35f48a86"
      },
      "outputs": [
        {
          "data": {
            "text/plain": [
              "((50000, 251), (10000, 251))"
            ]
          },
          "execution_count": 20,
          "metadata": {},
          "output_type": "execute_result"
        }
      ],
      "source": [
        "train_img_pca.shape, test_img_pca.shape"
      ]
    },
    {
      "cell_type": "markdown",
      "metadata": {
        "id": "VSHSc38YSqeA"
      },
      "source": [
        "#### Model Architecture and Hyperparameters"
      ]
    },
    {
      "cell_type": "markdown",
      "metadata": {
        "id": "7WyqnCFsYaYX"
      },
      "source": [
        "- the loss function used is the categorical_hinge provided by tensorflow keras API which is effectively the loss function for multi-class support vector machine. more on that here: [tf.keras.losses.CategoricalHinge](https://www.tensorflow.org/api_docs/python/tf/keras/losses/CategoricalHinge) and here: [How does multiclass hinge work?](https://www.machinecurve.com/index.php/2019/10/17/how-to-use-categorical-multiclass-hinge-with-keras/#how-does-multiclass-hinge-work)\n",
        "![Hinge_loss_function](https://www.machinecurve.com/wp-content/uploads/2019/10/image-2.png)\n",
        "- The learning rate set to 0.03 proved optimal as the default in tensorflow is 0.01 but SVMs need a little bigger.\n",
        "- The optimizer used is Adam as Adam combines the best properties of the AdaGrad and RMSProp algorithms to provide an optimization algorithm that can handle sparse gradients on noisy problems. [more info](https://machinelearningmastery.com/adam-optimization-algorithm-for-deep-learning/#:~:text=Specifically%2C%20you%20learned%3A,sparse%20gradients%20on%20noisy%20problems.)\n",
        "- number of epochs is 30 as the model only overfits in latter iterations\n",
        "- batch size of 128 proved to be optimal in terms of accuracy and runtime speed espicially when using GPUs for training. this batch size is relativly large - to make use of GPUs -, as smaller batch sizes tend to slow down training and don't make much use of the parallel hardware, thus most of th work will be sequential with longer time.\n",
        "- here, we used 16% test, 8% validation, and 76% training data. this is because the scarcity of the data with respect to the 100 class number to be detected."
      ]
    },
    {
      "cell_type": "code",
      "execution_count": null,
      "metadata": {
        "id": "lzuL7o1oYQ3Y"
      },
      "outputs": [],
      "source": [
        "%%capture\n",
        "num_classes = 100\n",
        "loss_function_used = 'categorical_hinge'\n",
        "learning_rate_used = 0.03 # little bigger for SVMs\n",
        "optimizer_used = tf.keras.optimizers.Adam(lr=learning_rate_used) # proved best\n",
        "additional_metrics = ['accuracy'] # common metric\n",
        "num_epochs = 30\n",
        "batch_size = 128\n",
        "validation_split = 0.1\n",
        "\n",
        "# Set shape based on data\n",
        "input_shape = (pca_cifar.n_components_,)"
      ]
    },
    {
      "cell_type": "markdown",
      "metadata": {
        "id": "yAWul_pnZyF2"
      },
      "source": [
        "The model consists of one hidden layer with the number of nodes equal to the number of classes and a linear activation functions. we added a softmax layer because the 'categorical_hinge' loss function provided by tensorflow and keras needs its input to be in the form of probailities not logits (the vector of raw (non-normalized) predictions) which is produced by the MCSVM, so the softmax layer was used just as a mathematical transformation to generate a vector of (normalized) probabilities so we could use the loss function, but the activation function is still linear. [see also (Logits)](https://developers.google.com/machine-learning/glossary/#logits)\n",
        "\n",
        "NOTE: Manual construction of shallow MCSVM to operate on logits directly without the softmax layer requires the use of the functional API of Keras and Tensorflow, which is complicated and error prone. We prefered to use a shortcut method to construct the model using off-the-shelf libraries as much as we can without affecting the model architecture. "
      ]
    },
    {
      "cell_type": "code",
      "execution_count": null,
      "metadata": {
        "colab": {
          "base_uri": "https://localhost:8080/"
        },
        "id": "mD80TiuuaurY",
        "outputId": "6bc0dda3-db9d-4dac-8154-b71d48409f34"
      },
      "outputs": [
        {
          "name": "stdout",
          "output_type": "stream",
          "text": [
            "Model: \"sequential\"\n",
            "_________________________________________________________________\n",
            " Layer (type)                Output Shape              Param #   \n",
            "=================================================================\n",
            " flatten (Flatten)           (None, 251)               0         \n",
            "                                                                 \n",
            " dense (Dense)               (None, 100)               25200     \n",
            "                                                                 \n",
            "=================================================================\n",
            "Total params: 25,200\n",
            "Trainable params: 25,200\n",
            "Non-trainable params: 0\n",
            "_________________________________________________________________\n"
          ]
        }
      ],
      "source": [
        "model = Sequential([\n",
        "    Flatten(input_shape=input_shape),\n",
        "    Dense(num_classes, activation='softmax'),\n",
        "])\n",
        "\n",
        "model.summary()"
      ]
    },
    {
      "cell_type": "markdown",
      "metadata": {
        "id": "pPxiiu91aw9f"
      },
      "source": [
        "as we can see from the model summary the number of parametrs is 25,200 parameter which is not bad relative to the dataset, as a good rule of thumb the number of training examples should be at least 2x or 3x the number of parameters in order for the model parameters to converge and acheive good results."
      ]
    },
    {
      "cell_type": "markdown",
      "metadata": {
        "id": "cN5ADN62QmNO"
      },
      "source": [
        "### Deep Neural Network"
      ]
    },
    {
      "cell_type": "markdown",
      "metadata": {
        "id": "dpMdeSP2W-JY"
      },
      "source": [
        "#### Data preprocessing"
      ]
    },
    {
      "cell_type": "markdown",
      "metadata": {
        "id": "BQBDQwOuKG2M"
      },
      "source": [
        "We get a fresh copy of the data without the previous transformation done for the MCSVM using PCA."
      ]
    },
    {
      "cell_type": "code",
      "execution_count": null,
      "metadata": {
        "id": "PQ97j1BhKUwD"
      },
      "outputs": [],
      "source": [
        "(input_train, target_train), (input_test, target_test) = images_data.load_data()"
      ]
    },
    {
      "cell_type": "markdown",
      "metadata": {
        "id": "Ot3Daed_MNJY"
      },
      "source": [
        "Next, Data normalization"
      ]
    },
    {
      "cell_type": "code",
      "execution_count": null,
      "metadata": {
        "id": "X_YEnI84MQ23"
      },
      "outputs": [],
      "source": [
        "input_train = input_train.astype('float32')\n",
        "input_train = input_train / 255\n",
        "\n",
        "input_test = input_test.astype('float32')\n",
        "input_test = input_test / 255"
      ]
    },
    {
      "cell_type": "markdown",
      "metadata": {
        "id": "9q_H3TUKW-We"
      },
      "source": [
        "#### Model Architecture and Hyperparameters"
      ]
    },
    {
      "cell_type": "markdown",
      "metadata": {
        "id": "xxgaOy-qMeNH"
      },
      "source": [
        "Model Architecture: \n",
        " This architecture was inspired by the VGG architectures. For the Conv-Net we start with large image size that decreases at deeper layers, while the number of filters increases. as we go deeper the model extracts more complex features, so we shrink the image representing less features but more complex ones (condensing the info). We also increase the number of filters because when the features are complex, more info can be extracted from it. The image size is decreased by max pooling layer of size 2x2 which is the common case, and 3x3 filters - also common - in computer vision. \n",
        "\n",
        "- we used sparse_categorical_crossentropy because it's a multi classification problem, and the data labels are in sparse representation [more info](https://datascience.stackexchange.com/questions/41921/sparse-categorical-crossentropy-vs-categorical-crossentropy-keras-accuracy)\n",
        "- we used the default learning rate in tensorflow which is 0.01, other values were not as good.\n",
        "- The optimizer used is Adam as Adam combines the best properties of the AdaGrad and RMSProp algorithms to provide an optimization algorithm that can handle sparse gradients on noisy problems. [more info](https://machinelearningmastery.com/adam-optimization-algorithm-for-deep-learning/#:~:text=Specifically%2C%20you%20learned%3A,sparse%20gradients%20on%20noisy%20problems.)\n",
        "- number of epochs is 20 which were enough as the model only overfits in latter iterations\n",
        "- batch size of 128 proved to be optimal in terms of accuracy and runtime speed espicially when using GPUs for training. this batch size is relativly large - to make use of GPUs -, as smaller batch sizes tend to slow down training and don't make much use of the parallel hardware, thus most of th work will be sequential with longer time.\n",
        "- here, we used 16% test, 16% validation, and 68% training data."
      ]
    },
    {
      "cell_type": "code",
      "execution_count": null,
      "metadata": {
        "id": "PJKSj4wgMsh_"
      },
      "outputs": [],
      "source": [
        "%%capture\n",
        "batch_size = 128\n",
        "img_width, img_height, img_num_channels = 32, 32, 3\n",
        "loss_function = sparse_categorical_crossentropy\n",
        "no_classes = 100\n",
        "no_epochs = 20\n",
        "optimizer = Adam()\n",
        "validation_split = 0.2\n",
        "verbosity = 1\n",
        "input_shape = (img_width, img_height, img_num_channels)"
      ]
    },
    {
      "cell_type": "markdown",
      "metadata": {
        "id": "W71g9cKgMs5W"
      },
      "source": [
        "The model Architecture consists of"
      ]
    },
    {
      "cell_type": "code",
      "execution_count": null,
      "metadata": {
        "colab": {
          "base_uri": "https://localhost:8080/"
        },
        "id": "bkQ_8GiePYh3",
        "outputId": "ba259d5b-60e4-4698-e803-33251f12c6a7"
      },
      "outputs": [
        {
          "name": "stdout",
          "output_type": "stream",
          "text": [
            "Model: \"sequential_1\"\n",
            "_________________________________________________________________\n",
            " Layer (type)                Output Shape              Param #   \n",
            "=================================================================\n",
            " conv2d_3 (Conv2D)           (None, 30, 30, 64)        1792      \n",
            "                                                                 \n",
            " max_pooling2d_3 (MaxPooling  (None, 15, 15, 64)       0         \n",
            " 2D)                                                             \n",
            "                                                                 \n",
            " conv2d_4 (Conv2D)           (None, 13, 13, 128)       73856     \n",
            "                                                                 \n",
            " max_pooling2d_4 (MaxPooling  (None, 6, 6, 128)        0         \n",
            " 2D)                                                             \n",
            "                                                                 \n",
            " conv2d_5 (Conv2D)           (None, 4, 4, 256)         295168    \n",
            "                                                                 \n",
            " max_pooling2d_5 (MaxPooling  (None, 2, 2, 256)        0         \n",
            " 2D)                                                             \n",
            "                                                                 \n",
            " flatten_1 (Flatten)         (None, 1024)              0         \n",
            "                                                                 \n",
            " dense_4 (Dense)             (None, 256)               262400    \n",
            "                                                                 \n",
            " dense_5 (Dense)             (None, 128)               32896     \n",
            "                                                                 \n",
            " dense_6 (Dense)             (None, 64)                8256      \n",
            "                                                                 \n",
            " dense_7 (Dense)             (None, 100)               6500      \n",
            "                                                                 \n",
            "=================================================================\n",
            "Total params: 680,868\n",
            "Trainable params: 680,868\n",
            "Non-trainable params: 0\n",
            "_________________________________________________________________\n"
          ]
        }
      ],
      "source": [
        "model = Sequential()\n",
        "model.add(Conv2D(64, kernel_size=(3, 3), activation='relu', input_shape=input_shape))\n",
        "model.add(MaxPooling2D(pool_size=(2, 2)))\n",
        "model.add(Conv2D(128, kernel_size=(3, 3), activation='relu'))\n",
        "model.add(MaxPooling2D(pool_size=(2, 2)))\n",
        "model.add(Conv2D(256, kernel_size=(3, 3), activation='relu'))\n",
        "model.add(MaxPooling2D(pool_size=(2, 2)))\n",
        "model.add(Flatten())\n",
        "model.add(Dense(256, activation='relu'))\n",
        "model.add(Dense(128, activation='relu'))\n",
        "model.add(Dense(64, activation='relu'))\n",
        "model.add(Dense(no_classes, activation='softmax'))\n",
        "model.summary()"
      ]
    },
    {
      "cell_type": "markdown",
      "metadata": {
        "id": "UWfBqMJr_cp0"
      },
      "source": [
        "### Learning rules\n",
        "here we illustrate the learning rules for backpropagation although we prefered to use off-the-self libraries to deal with updating the parameters."
      ]
    },
    {
      "cell_type": "markdown",
      "metadata": {
        "id": "PIxLYTxI_cp0"
      },
      "source": [
        "![bp1](https://i.ibb.co/RQrLyM8/bp1.png)\n",
        "![bp2](https://i.ibb.co/BG1h7F0/bp2.png)\n",
        "![bp3](https://i.ibb.co/8g8yX8H/bp3.png)\n",
        "![bp4](https://i.ibb.co/4WnVhkH/bp4.png)\n",
        "![bp5](https://i.ibb.co/bHb0QWW/bp5.png)\n",
        "![bp6](https://i.ibb.co/KVb7v57/bp6.png)"
      ]
    },
    {
      "cell_type": "markdown",
      "metadata": {
        "id": "yGAdA_FUJbM-"
      },
      "source": [
        "## Expiremental Results"
      ]
    },
    {
      "cell_type": "markdown",
      "metadata": {
        "id": "sYnbBObhKTtm"
      },
      "source": [
        "### Multi-Class Support Vector Machine (MCSVM)"
      ]
    },
    {
      "cell_type": "markdown",
      "metadata": {
        "id": "UhRFPra7TjKm"
      },
      "source": [
        "After compiling the model we fit the training data to it"
      ]
    },
    {
      "cell_type": "code",
      "execution_count": null,
      "metadata": {
        "id": "Xc4FxMhfTuTP"
      },
      "outputs": [],
      "source": [
        "model.compile(loss=loss_function_used, optimizer=optimizer_used, metrics=additional_metrics)\n",
        "history = model.fit(train_img_pca, transformed_train, epochs=num_epochs, batch_size=batch_size, verbose=False, validation_split=validation_split)"
      ]
    },
    {
      "cell_type": "markdown",
      "metadata": {
        "id": "ae4m0m3sT0FG"
      },
      "source": [
        "The model performance is extracted and collected in the df dataframe. showing the first entries of it we can see loss is decreasing for the training set but oscillating for the validation set"
      ]
    },
    {
      "cell_type": "code",
      "execution_count": null,
      "metadata": {
        "colab": {
          "base_uri": "https://localhost:8080/",
          "height": 206
        },
        "id": "vyMoiQm8Ud2g",
        "outputId": "a181e054-a34a-4035-a2ed-59c377862573"
      },
      "outputs": [
        {
          "data": {
            "text/html": [
              "\n",
              "  <div id=\"df-3d53aea0-3d51-4189-b3b9-2aeeead82ead\">\n",
              "    <div class=\"colab-df-container\">\n",
              "      <div>\n",
              "<style scoped>\n",
              "    .dataframe tbody tr th:only-of-type {\n",
              "        vertical-align: middle;\n",
              "    }\n",
              "\n",
              "    .dataframe tbody tr th {\n",
              "        vertical-align: top;\n",
              "    }\n",
              "\n",
              "    .dataframe thead th {\n",
              "        text-align: right;\n",
              "    }\n",
              "</style>\n",
              "<table border=\"1\" class=\"dataframe\">\n",
              "  <thead>\n",
              "    <tr style=\"text-align: right;\">\n",
              "      <th></th>\n",
              "      <th>loss</th>\n",
              "      <th>accuracy</th>\n",
              "      <th>val_loss</th>\n",
              "      <th>val_accuracy</th>\n",
              "    </tr>\n",
              "  </thead>\n",
              "  <tbody>\n",
              "    <tr>\n",
              "      <th>0</th>\n",
              "      <td>1.199623</td>\n",
              "      <td>0.036667</td>\n",
              "      <td>1.266308</td>\n",
              "      <td>0.0480</td>\n",
              "    </tr>\n",
              "    <tr>\n",
              "      <th>1</th>\n",
              "      <td>1.319518</td>\n",
              "      <td>0.059200</td>\n",
              "      <td>1.374252</td>\n",
              "      <td>0.0662</td>\n",
              "    </tr>\n",
              "    <tr>\n",
              "      <th>2</th>\n",
              "      <td>1.390443</td>\n",
              "      <td>0.081444</td>\n",
              "      <td>1.430853</td>\n",
              "      <td>0.0872</td>\n",
              "    </tr>\n",
              "    <tr>\n",
              "      <th>3</th>\n",
              "      <td>1.430934</td>\n",
              "      <td>0.106133</td>\n",
              "      <td>1.481419</td>\n",
              "      <td>0.0992</td>\n",
              "    </tr>\n",
              "    <tr>\n",
              "      <th>4</th>\n",
              "      <td>1.459638</td>\n",
              "      <td>0.125178</td>\n",
              "      <td>1.528923</td>\n",
              "      <td>0.1000</td>\n",
              "    </tr>\n",
              "  </tbody>\n",
              "</table>\n",
              "</div>\n",
              "      <button class=\"colab-df-convert\" onclick=\"convertToInteractive('df-3d53aea0-3d51-4189-b3b9-2aeeead82ead')\"\n",
              "              title=\"Convert this dataframe to an interactive table.\"\n",
              "              style=\"display:none;\">\n",
              "        \n",
              "  <svg xmlns=\"http://www.w3.org/2000/svg\" height=\"24px\"viewBox=\"0 0 24 24\"\n",
              "       width=\"24px\">\n",
              "    <path d=\"M0 0h24v24H0V0z\" fill=\"none\"/>\n",
              "    <path d=\"M18.56 5.44l.94 2.06.94-2.06 2.06-.94-2.06-.94-.94-2.06-.94 2.06-2.06.94zm-11 1L8.5 8.5l.94-2.06 2.06-.94-2.06-.94L8.5 2.5l-.94 2.06-2.06.94zm10 10l.94 2.06.94-2.06 2.06-.94-2.06-.94-.94-2.06-.94 2.06-2.06.94z\"/><path d=\"M17.41 7.96l-1.37-1.37c-.4-.4-.92-.59-1.43-.59-.52 0-1.04.2-1.43.59L10.3 9.45l-7.72 7.72c-.78.78-.78 2.05 0 2.83L4 21.41c.39.39.9.59 1.41.59.51 0 1.02-.2 1.41-.59l7.78-7.78 2.81-2.81c.8-.78.8-2.07 0-2.86zM5.41 20L4 18.59l7.72-7.72 1.47 1.35L5.41 20z\"/>\n",
              "  </svg>\n",
              "      </button>\n",
              "      \n",
              "  <style>\n",
              "    .colab-df-container {\n",
              "      display:flex;\n",
              "      flex-wrap:wrap;\n",
              "      gap: 12px;\n",
              "    }\n",
              "\n",
              "    .colab-df-convert {\n",
              "      background-color: #E8F0FE;\n",
              "      border: none;\n",
              "      border-radius: 50%;\n",
              "      cursor: pointer;\n",
              "      display: none;\n",
              "      fill: #1967D2;\n",
              "      height: 32px;\n",
              "      padding: 0 0 0 0;\n",
              "      width: 32px;\n",
              "    }\n",
              "\n",
              "    .colab-df-convert:hover {\n",
              "      background-color: #E2EBFA;\n",
              "      box-shadow: 0px 1px 2px rgba(60, 64, 67, 0.3), 0px 1px 3px 1px rgba(60, 64, 67, 0.15);\n",
              "      fill: #174EA6;\n",
              "    }\n",
              "\n",
              "    [theme=dark] .colab-df-convert {\n",
              "      background-color: #3B4455;\n",
              "      fill: #D2E3FC;\n",
              "    }\n",
              "\n",
              "    [theme=dark] .colab-df-convert:hover {\n",
              "      background-color: #434B5C;\n",
              "      box-shadow: 0px 1px 3px 1px rgba(0, 0, 0, 0.15);\n",
              "      filter: drop-shadow(0px 1px 2px rgba(0, 0, 0, 0.3));\n",
              "      fill: #FFFFFF;\n",
              "    }\n",
              "  </style>\n",
              "\n",
              "      <script>\n",
              "        const buttonEl =\n",
              "          document.querySelector('#df-3d53aea0-3d51-4189-b3b9-2aeeead82ead button.colab-df-convert');\n",
              "        buttonEl.style.display =\n",
              "          google.colab.kernel.accessAllowed ? 'block' : 'none';\n",
              "\n",
              "        async function convertToInteractive(key) {\n",
              "          const element = document.querySelector('#df-3d53aea0-3d51-4189-b3b9-2aeeead82ead');\n",
              "          const dataTable =\n",
              "            await google.colab.kernel.invokeFunction('convertToInteractive',\n",
              "                                                     [key], {});\n",
              "          if (!dataTable) return;\n",
              "\n",
              "          const docLinkHtml = 'Like what you see? Visit the ' +\n",
              "            '<a target=\"_blank\" href=https://colab.research.google.com/notebooks/data_table.ipynb>data table notebook</a>'\n",
              "            + ' to learn more about interactive tables.';\n",
              "          element.innerHTML = '';\n",
              "          dataTable['output_type'] = 'display_data';\n",
              "          await google.colab.output.renderOutput(dataTable, element);\n",
              "          const docLink = document.createElement('div');\n",
              "          docLink.innerHTML = docLinkHtml;\n",
              "          element.appendChild(docLink);\n",
              "        }\n",
              "      </script>\n",
              "    </div>\n",
              "  </div>\n",
              "  "
            ],
            "text/plain": [
              "       loss  accuracy  val_loss  val_accuracy\n",
              "0  1.199623  0.036667  1.266308        0.0480\n",
              "1  1.319518  0.059200  1.374252        0.0662\n",
              "2  1.390443  0.081444  1.430853        0.0872\n",
              "3  1.430934  0.106133  1.481419        0.0992\n",
              "4  1.459638  0.125178  1.528923        0.1000"
            ]
          },
          "execution_count": 24,
          "metadata": {},
          "output_type": "execute_result"
        }
      ],
      "source": [
        "df = pd.DataFrame(history.history)\n",
        "df.head()"
      ]
    },
    {
      "cell_type": "markdown",
      "metadata": {
        "id": "mZzdnhFPUgJf"
      },
      "source": [
        "Now we plot the loss for the training data VS the loss for the validation data, we can see clearly that the model overfits due to the lack of the training data for such a high number of classes."
      ]
    },
    {
      "cell_type": "code",
      "execution_count": null,
      "metadata": {
        "colab": {
          "base_uri": "https://localhost:8080/",
          "height": 295
        },
        "id": "VNnBE3etUk_3",
        "outputId": "627506e6-312e-4d59-eb7f-61f8c3505712"
      },
      "outputs": [
        {
          "data": {
            "image/png": "[encoded data removed]",
            "text/plain": [
              "<Figure size 432x288 with 1 Axes>"
            ]
          },
          "metadata": {
            "needs_background": "light"
          },
          "output_type": "display_data"
        }
      ],
      "source": [
        "plt.plot(history.history['loss'], label='Categorical Hinge loss (training data)')\n",
        "plt.plot(history.history['val_loss'], label='Categorical Hinge loss (validation data)')\n",
        "plt.title('Categorical Hinge loss for Shallow-Net of 1 layer')\n",
        "plt.ylabel('Categorical Hinge loss value')\n",
        "plt.yscale('log')\n",
        "plt.xlabel('No. epoch')\n",
        "plt.legend(loc=\"upper left\")\n",
        "plt.show()"
      ]
    },
    {
      "cell_type": "markdown",
      "metadata": {
        "id": "Xqcq1n3AVkD-"
      },
      "source": [
        "Now, we plot the loss on the training data as the training progresses."
      ]
    },
    {
      "cell_type": "code",
      "execution_count": null,
      "metadata": {
        "colab": {
          "base_uri": "https://localhost:8080/",
          "height": 312
        },
        "id": "FMMhWr91VgVP",
        "outputId": "11fd81e0-1f39-48c4-d815-5918a64dab32"
      },
      "outputs": [
        {
          "data": {
            "text/plain": [
              "[Text(0, 0.5, 'Loss'), Text(0.5, 0, 'Epochs')]"
            ]
          },
          "execution_count": 26,
          "metadata": {},
          "output_type": "execute_result"
        },
        {
          "data": {
            "image/png": "[encoded data removed]",
            "text/plain": [
              "<Figure size 432x288 with 1 Axes>"
            ]
          },
          "metadata": {
            "needs_background": "light"
          },
          "output_type": "display_data"
        }
      ],
      "source": [
        "loss_plot = df.plot(y='loss', title='Loss Vs Epochs', legend=False)\n",
        "loss_plot.set(xlabel='Epochs', ylabel='Loss')"
      ]
    },
    {
      "cell_type": "markdown",
      "metadata": {
        "id": "95oWQTALV1Hp"
      },
      "source": [
        "Now, we plot the accuracy acheived on the training data as the training progresses."
      ]
    },
    {
      "cell_type": "code",
      "execution_count": null,
      "metadata": {
        "colab": {
          "base_uri": "https://localhost:8080/",
          "height": 312
        },
        "id": "tw-eEkC1Vg1G",
        "outputId": "f33cda25-a28d-4028-9828-aa816eee7be0"
      },
      "outputs": [
        {
          "data": {
            "text/plain": [
              "[Text(0, 0.5, 'Accuracy'), Text(0.5, 0, 'Epochs')]"
            ]
          },
          "execution_count": 27,
          "metadata": {},
          "output_type": "execute_result"
        },
        {
          "data": {
            "image/png": "[encoded data removed]",
            "text/plain": [
              "<Figure size 432x288 with 1 Axes>"
            ]
          },
          "metadata": {
            "needs_background": "light"
          },
          "output_type": "display_data"
        }
      ],
      "source": [
        "acc_plot = df.plot(y='accuracy', title='Accuracy Vs Epochs', legend=False)\n",
        "acc_plot.set(xlabel='Epochs', ylabel='Accuracy')"
      ]
    },
    {
      "cell_type": "markdown",
      "metadata": {
        "id": "SUA99JicWIx_"
      },
      "source": [
        "The results on the test set is similar as the validation set with accuracy of 16.42 percent"
      ]
    },
    {
      "cell_type": "code",
      "execution_count": null,
      "metadata": {
        "colab": {
          "base_uri": "https://localhost:8080/"
        },
        "id": "qcE-NbbtWI5x",
        "outputId": "77113962-ef35-487b-e46f-3663f446e96e"
      },
      "outputs": [
        {
          "name": "stdout",
          "output_type": "stream",
          "text": [
            "313/313 - 1s - loss: 1.6080 - accuracy: 0.1642 - 613ms/epoch - 2ms/step\n"
          ]
        }
      ],
      "source": [
        "test_loss, test_accuracy = model.evaluate(test_img_pca, transformed_test, verbose=2)"
      ]
    },
    {
      "cell_type": "markdown",
      "metadata": {
        "id": "DVX8ADSGKYL3"
      },
      "source": [
        "### Deep Neural Network"
      ]
    },
    {
      "cell_type": "markdown",
      "metadata": {
        "id": "DHJm74vjIvef"
      },
      "source": [
        "We compile and fit the model as usual"
      ]
    },
    {
      "cell_type": "code",
      "execution_count": null,
      "metadata": {
        "id": "XzXfSoLtQisg"
      },
      "outputs": [],
      "source": [
        "model.compile(loss=loss_function, optimizer=optimizer, metrics=['accuracy'])\n",
        "history = model.fit(input_train, target_train, batch_size=batch_size, epochs=no_epochs, verbose=verbosity, validation_split=validation_split)"
      ]
    },
    {
      "cell_type": "markdown",
      "metadata": {
        "id": "nRPThrocRyaw"
      },
      "source": [
        "The model performance is evaluated on the test data set and acheived 37.3%"
      ]
    },
    {
      "cell_type": "code",
      "execution_count": null,
      "metadata": {
        "colab": {
          "base_uri": "https://localhost:8080/"
        },
        "id": "8rmV2DrpRQOI",
        "outputId": "bb25859e-6111-435b-c52f-3f657d488172"
      },
      "outputs": [
        {
          "name": "stdout",
          "output_type": "stream",
          "text": [
            "Test loss: 2.8781330585479736 / Test accuracy: 0.373199999332428\n"
          ]
        }
      ],
      "source": [
        "score = model.evaluate(input_test, target_test, verbose=0)\n",
        "print(f'Test loss: {score[0]} / Test accuracy: {score[1]}')"
      ]
    },
    {
      "cell_type": "markdown",
      "metadata": {
        "id": "amACB_l-Scvo"
      },
      "source": [
        "Now we plot the loss for the training data VS the loss for the validation data, we can see clearly that the model overfits due to the lack of the training data for such a high number of classes, and the large number of parameters"
      ]
    },
    {
      "cell_type": "code",
      "execution_count": null,
      "metadata": {
        "colab": {
          "base_uri": "https://localhost:8080/",
          "height": 295
        },
        "id": "PpXbYRpXSc3n",
        "outputId": "5e73adfc-19ec-43c0-c92a-c98e7d19cccb"
      },
      "outputs": [
        {
          "data": {
            "image/png": "[encoded data removed]",
            "text/plain": [
              "<Figure size 432x288 with 1 Axes>"
            ]
          },
          "metadata": {
            "needs_background": "light"
          },
          "output_type": "display_data"
        }
      ],
      "source": [
        "plt.plot(history.history['loss'], label='Sparse Categorical Crossentropy (training data)')\n",
        "plt.plot(history.history['val_loss'], label='Sparse Categorical Crossentropy (validation data)')\n",
        "plt.title('Sparse Categorical Crossentropy Conv-Net')\n",
        "plt.ylabel('Sparse Categorical Crossentropy value')\n",
        "plt.yscale('log')\n",
        "plt.xlabel('No. epoch')\n",
        "plt.legend(loc=\"upper left\")\n",
        "plt.show()"
      ]
    },
    {
      "cell_type": "code",
      "execution_count": null,
      "metadata": {
        "id": "DMFYJhNBAbcj"
      },
      "outputs": [],
      "source": [
        "df = pd.DataFrame(history.history)"
      ]
    },
    {
      "cell_type": "markdown",
      "metadata": {
        "id": "eOHzT7dNR38_"
      },
      "source": [
        "Now, we plot the loss on the training data as the training progresses."
      ]
    },
    {
      "cell_type": "code",
      "execution_count": null,
      "metadata": {
        "colab": {
          "base_uri": "https://localhost:8080/",
          "height": 312
        },
        "id": "w998EGg5RSpn",
        "outputId": "edbc8146-eca7-4bec-d719-1754de0e2ce8"
      },
      "outputs": [
        {
          "data": {
            "text/plain": [
              "[Text(0, 0.5, 'Loss'), Text(0.5, 0, 'Epochs')]"
            ]
          },
          "execution_count": 23,
          "metadata": {},
          "output_type": "execute_result"
        },
        {
          "data": {
            "image/png": "[encoded data removed]",
            "text/plain": [
              "<Figure size 432x288 with 1 Axes>"
            ]
          },
          "metadata": {
            "needs_background": "light"
          },
          "output_type": "display_data"
        }
      ],
      "source": [
        "loss_plot = df.plot(y='loss', title='Loss Vs Epochs', legend=False)\n",
        "loss_plot.set(xlabel='Epochs', ylabel='Loss')"
      ]
    },
    {
      "cell_type": "markdown",
      "metadata": {
        "id": "jZfFe6Y8R4hp"
      },
      "source": [
        "Now, we plot the accuracy acheived on the training data as the training progresses."
      ]
    },
    {
      "cell_type": "code",
      "execution_count": null,
      "metadata": {
        "colab": {
          "base_uri": "https://localhost:8080/",
          "height": 312
        },
        "id": "hALhVN0dRVPg",
        "outputId": "493a6bb7-3ae3-4385-d8ae-abdf829aba44"
      },
      "outputs": [
        {
          "data": {
            "text/plain": [
              "[Text(0, 0.5, 'Accuracy'), Text(0.5, 0, 'Epochs')]"
            ]
          },
          "execution_count": 24,
          "metadata": {},
          "output_type": "execute_result"
        },
        {
          "data": {
            "image/png": "[encoded data removed]",
            "text/plain": [
              "<Figure size 432x288 with 1 Axes>"
            ]
          },
          "metadata": {
            "needs_background": "light"
          },
          "output_type": "display_data"
        }
      ],
      "source": [
        "acc_plot = df.plot(y='accuracy', title='Accuracy Vs Epochs', legend=False)\n",
        "acc_plot.set(xlabel='Epochs', ylabel='Accuracy')"
      ]
    },
    {
      "cell_type": "markdown",
      "metadata": {
        "id": "J8Mvv6e3I1A2"
      },
      "source": [
        "Clearly, the model overfits so we try dropout regularization so nodes in the layers will not depend on a particular feature."
      ]
    },
    {
      "cell_type": "markdown",
      "metadata": {
        "id": "9aDJGNO2RhC5"
      },
      "source": [
        "We define our new model after normalization as follows:\n",
        "- dropout with probaility 10%\n",
        "- use random_normal he initialization which is suitable for relu activation function. the weights are concentraed around zero."
      ]
    },
    {
      "cell_type": "code",
      "execution_count": null,
      "metadata": {
        "id": "auO20QQpTJ__"
      },
      "outputs": [],
      "source": [
        "drop = 0.1\n",
        "init = 'he_normal'\n",
        "model = Sequential()\n",
        "model.add(Conv2D(64, kernel_size=(3, 3), activation='relu', input_shape=input_shape))\n",
        "model.add(MaxPooling2D(pool_size=(2, 2)))\n",
        "model.add(Conv2D(128, kernel_size=(3, 3), activation='relu'))\n",
        "model.add(MaxPooling2D(pool_size=(2, 2)))\n",
        "model.add(Conv2D(256, kernel_size=(3, 3), activation='relu'))\n",
        "model.add(MaxPooling2D(pool_size=(2, 2)))\n",
        "model.add(Flatten())\n",
        "model.add(Dense(256, activation='relu', kernel_initializer=init))\n",
        "model.add(Dropout(drop))\n",
        "model.add(Dense(128, activation='relu', kernel_initializer=init))\n",
        "model.add(Dropout(drop))\n",
        "model.add(Dense(64, activation='relu', kernel_initializer=init))\n",
        "model.add(Dropout(drop))\n",
        "model.add(Dense(no_classes, activation='softmax'))"
      ]
    },
    {
      "cell_type": "markdown",
      "metadata": {
        "id": "MDJvv6JbTTcA"
      },
      "source": [
        "Compile and fit"
      ]
    },
    {
      "cell_type": "code",
      "execution_count": null,
      "metadata": {
        "id": "yFs5cNQqTViY"
      },
      "outputs": [],
      "source": [
        "model.compile(loss=loss_function, optimizer=optimizer, metrics=['accuracy'])\n",
        "history = model.fit(input_train, target_train, batch_size=batch_size, epochs=10, verbose=verbosity, validation_split=validation_split)"
      ]
    },
    {
      "cell_type": "markdown",
      "metadata": {
        "id": "OqOL_Hr4TVs3"
      },
      "source": [
        "Evaluate"
      ]
    },
    {
      "cell_type": "code",
      "execution_count": null,
      "metadata": {
        "colab": {
          "base_uri": "https://localhost:8080/"
        },
        "id": "_Jmpk8rOTWrg",
        "outputId": "74da3ca4-4612-4a58-bd29-82d29cfb18bb"
      },
      "outputs": [
        {
          "name": "stdout",
          "output_type": "stream",
          "text": [
            "Test loss: 2.5210208892822266 / Test accuracy: 0.3612000048160553\n"
          ]
        }
      ],
      "source": [
        "score = model.evaluate(input_test, target_test, verbose=0)\n",
        "print(f'Test loss: {score[0]} / Test accuracy: {score[1]}')"
      ]
    },
    {
      "cell_type": "markdown",
      "metadata": {
        "id": "g7iGalG9DD-I"
      },
      "source": [
        "The validation error and overfitting has been reduced significantly. We can see that early stopping could be useful if we increased the number of epochs. but it's not necessary in this case. also early stopping is not recommended as the model it does not allow the model to make use of all the training data. [See also](https://machinelearningmastery.com/early-stopping-to-avoid-overtraining-neural-network-models/) "
      ]
    },
    {
      "cell_type": "code",
      "execution_count": null,
      "metadata": {
        "colab": {
          "base_uri": "https://localhost:8080/",
          "height": 295
        },
        "id": "LMJD3vodTYZA",
        "outputId": "392fe6be-8262-4f85-8cab-920c4c1cd30f"
      },
      "outputs": [
        {
          "data": {
            "image/png": "[encoded data removed]",
            "text/plain": [
              "<Figure size 432x288 with 1 Axes>"
            ]
          },
          "metadata": {
            "needs_background": "light"
          },
          "output_type": "display_data"
        }
      ],
      "source": [
        "plt.plot(history.history['loss'], label='Sparse Categorical Crossentropy (training data)')\n",
        "plt.plot(history.history['val_loss'], label='Sparse Categorical Crossentropy (validation data)')\n",
        "plt.title('Sparse Categorical Crossentropy Conv-Net')\n",
        "plt.ylabel('Sparse Categorical Crossentropy value')\n",
        "plt.yscale('log')\n",
        "plt.xlabel('No. epoch')\n",
        "plt.legend(loc=\"upper left\")\n",
        "plt.show()"
      ]
    },
    {
      "cell_type": "code",
      "execution_count": null,
      "metadata": {
        "id": "-M7SStvzC_Vh"
      },
      "outputs": [],
      "source": [
        "df = pd.DataFrame(history.history)"
      ]
    },
    {
      "cell_type": "markdown",
      "metadata": {
        "id": "ljZRlKNUXEfb"
      },
      "source": [
        "as usual the loss decreases VS the epochs while training"
      ]
    },
    {
      "cell_type": "code",
      "execution_count": null,
      "metadata": {
        "colab": {
          "base_uri": "https://localhost:8080/",
          "height": 312
        },
        "id": "eXtg24xgE29k",
        "outputId": "8cf7a550-9470-42df-afce-d375a0d86575"
      },
      "outputs": [
        {
          "data": {
            "text/plain": [
              "[Text(0, 0.5, 'Loss'), Text(0.5, 0, 'Epochs')]"
            ]
          },
          "execution_count": 13,
          "metadata": {},
          "output_type": "execute_result"
        },
        {
          "data": {
            "image/png": "[encoded data removed]",
            "text/plain": [
              "<Figure size 432x288 with 1 Axes>"
            ]
          },
          "metadata": {
            "needs_background": "light"
          },
          "output_type": "display_data"
        }
      ],
      "source": [
        "loss_plot = df.plot(y='loss', title='Loss Vs Epochs', legend=False)\n",
        "loss_plot.set(xlabel='Epochs', ylabel='Loss')"
      ]
    },
    {
      "cell_type": "markdown",
      "metadata": {
        "id": "NgNugXHFXNwF"
      },
      "source": [
        "and the accuracy increases."
      ]
    },
    {
      "cell_type": "code",
      "execution_count": null,
      "metadata": {
        "colab": {
          "base_uri": "https://localhost:8080/",
          "height": 312
        },
        "id": "ooezubNPE3I4",
        "outputId": "678c8f63-45ad-4923-f743-9f1c36c44ce4"
      },
      "outputs": [
        {
          "data": {
            "text/plain": [
              "[Text(0, 0.5, 'Accuracy'), Text(0.5, 0, 'Epochs')]"
            ]
          },
          "execution_count": 14,
          "metadata": {},
          "output_type": "execute_result"
        },
        {
          "data": {
            "image/png": "[encoded data removed]",
            "text/plain": [
              "<Figure size 432x288 with 1 Axes>"
            ]
          },
          "metadata": {
            "needs_background": "light"
          },
          "output_type": "display_data"
        }
      ],
      "source": [
        "acc_plot = df.plot(y='accuracy', title='Accuracy Vs Epochs', legend=False)\n",
        "acc_plot.set(xlabel='Epochs', ylabel='Accuracy')"
      ]
    },
    {
      "cell_type": "markdown",
      "metadata": {
        "id": "OkRuftBhJg1N"
      },
      "source": [
        "## Discussion"
      ]
    },
    {
      "cell_type": "markdown",
      "metadata": {
        "id": "Bxi09A6-Kel9"
      },
      "source": [
        "### Multi-Class Support Vector Machine (MCSVM)"
      ]
    },
    {
      "cell_type": "markdown",
      "metadata": {
        "id": "cgPaTwWXXUJb"
      },
      "source": [
        "Although the shallow Neural Network represents a simple model, adding the hinge loss for multi-class and using PCA as a feature extraction really helped performance. we can see that the model converges quickly and this is due to two reasons:\n",
        "- PCA represents a good feature extraction where we captured 96 percent of the variance in the data\n",
        "- the model is linear which makes it hard to get better results as epochs increase"
      ]
    },
    {
      "cell_type": "markdown",
      "metadata": {
        "id": "3WWA_eM6_cp7"
      },
      "source": [
        "### Deep Neural Network"
      ]
    },
    {
      "cell_type": "markdown",
      "metadata": {
        "id": "HkfFBnFm_cp7"
      },
      "source": [
        "At the beginnig the model acheived 37% performance on the test dataset but overfitted. we solved the problem by adding dropout regularization which helped but reduced the accuracy on the test dataset to be 36% which is not considerable. We can see the Conv-Nets extracted much better features which allowed the model to acheive some what good results for a large number of classes relative to the data set size."
      ]
    },
    {
      "cell_type": "markdown",
      "metadata": {
        "id": "fAXUTs2HJjGN"
      },
      "source": [
        "## Appendix (Codes)\n",
        "\n",
        "source code as a single python file can be downloaded from here: https://github.com/KareimGazer/Classify-Cifar-100/blob/main/ProjectReportFull.py"
      ]
    }
  ],
  "metadata": {
    "accelerator": "GPU",
    "colab": {
      "collapsed_sections": [],
      "name": "ProjectReport.ipynb",
      "provenance": [],
      "toc_visible": true
    },
    "kernelspec": {
      "display_name": "default:Python",
      "language": "python",
      "name": "conda-env-default-py"
    },
    "language_info": {
      "codemirror_mode": {
        "name": "ipython",
        "version": 3
      },
      "file_extension": ".py",
      "mimetype": "text/x-python",
      "name": "python",
      "nbconvert_exporter": "python",
      "pygments_lexer": "ipython3",
      "version": "3.9.7"
    }
  },
  "nbformat": 4,
  "nbformat_minor": 0
}